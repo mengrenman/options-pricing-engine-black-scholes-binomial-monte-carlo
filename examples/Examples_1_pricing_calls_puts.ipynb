{
 "cells": [
  {
   "cell_type": "code",
   "execution_count": 1,
   "id": "5c75a1e5",
   "metadata": {},
   "outputs": [],
   "source": [
    "import optpricer as op\n",
    "from dataclasses import replace, asdict"
   ]
  },
  {
   "cell_type": "code",
   "execution_count": 2,
   "id": "de3ba353",
   "metadata": {},
   "outputs": [
    {
     "name": "stdout",
     "output_type": "stream",
     "text": [
      "asdict: {'S0': 100, 'K': 100, 'T': 1.0, 'r': 0.03, 'sigma': 0.2, 'q': 0.0}\n",
      "BS call K=110: 5.2933980580449\n"
     ]
    }
   ],
   "source": [
    "opt = op.OptionSpec(S0=100, K=100, T=1.0, r=0.03, sigma=0.20)\n",
    "print(\"asdict:\", asdict(opt))\n",
    "\n",
    "opt2 = replace(opt, K=110)\n",
    "print(\"BS call K=110:\", op.bs_price(opt2))"
   ]
  },
  {
   "cell_type": "code",
   "execution_count": 3,
   "id": "3e7f4bf6",
   "metadata": {},
   "outputs": [
    {
     "name": "stdout",
     "output_type": "stream",
     "text": [
      "MC: 5.279001854634416 BS: 5.2933980580449 rel err: 0.0027196525280401306\n"
     ]
    }
   ],
   "source": [
    "# Monte Carlo should be very close to BS (within ~0.5% with enough paths)\n",
    "mc = op.euro_price_mc(opt2, op.CALL, n_paths=100_000, seed=1, return_stderr=False)\n",
    "bs = op.bs_price(opt2)\n",
    "print(\"MC:\", mc, \"BS:\", bs, \"rel err:\", abs(mc-bs)/bs)\n"
   ]
  },
  {
   "cell_type": "code",
   "execution_count": 4,
   "id": "bf66bf53",
   "metadata": {},
   "outputs": [],
   "source": [
    "import optpricer as op\n",
    "from dataclasses import replace, asdict"
   ]
  },
  {
   "cell_type": "code",
   "execution_count": 5,
   "id": "2cd61dec",
   "metadata": {},
   "outputs": [],
   "source": [
    "# 1) One spec, many pricers\n",
    "# Define an option\n",
    "opt = op.OptionSpec(S0=100, K=100, T=1.0, r=0.05, sigma=0.20, q=0.0)"
   ]
  },
  {
   "cell_type": "code",
   "execution_count": 6,
   "id": "556ef464",
   "metadata": {},
   "outputs": [
    {
     "data": {
      "text/plain": [
       "(10.450583572185565, 5.573526022256971)"
      ]
     },
     "execution_count": 6,
     "metadata": {},
     "output_type": "execute_result"
    }
   ],
   "source": [
    "op.bs_price(opt, op.CALL), op.bs_price(opt, op.PUT)"
   ]
  },
  {
   "cell_type": "code",
   "execution_count": 7,
   "id": "6d41d73a",
   "metadata": {},
   "outputs": [
    {
     "name": "stdout",
     "output_type": "stream",
     "text": [
      "Option premium\n",
      "Black-Scholes: 10.450583572185565\n",
      "Monte-Carlo: (10.44074114685718, 0.012533173797135132)\n",
      "Binomial Tree: 10.44658513644654\n"
     ]
    }
   ],
   "source": [
    "print('Option premium')\n",
    "print('Black-Scholes:', op.bs_price(opt, op.CALL))                  # closed-form\n",
    "print('Monte-Carlo:', op.euro_price_mc(opt, op.CALL))             # Monte Carlo\n",
    "print('Binomial Tree:', op.crr(opt, op.CALL, N=500, american=False))# Binomial Euro"
   ]
  },
  {
   "cell_type": "code",
   "execution_count": 8,
   "id": "c815a36e",
   "metadata": {},
   "outputs": [
    {
     "name": "stdout",
     "output_type": "stream",
     "text": [
      "{'delta': 0.6368306511756191, 'gamma': 0.018762017345846895, 'vega': 37.52403469169379, 'theta': -6.414027546438197, 'rho': 53.232481545376345}\n",
      "0.19998444800547083\n"
     ]
    }
   ],
   "source": [
    "# 2) Compute Greeks & implied vol\n",
    "print(op.bs_greeks(opt))\n",
    "\n",
    "# Implied volatility\n",
    "iv = op.implied_vol(opt, target_price=10.45)  # solve sigma\n",
    "print(iv)"
   ]
  },
  {
   "cell_type": "code",
   "execution_count": 9,
   "id": "27079aec",
   "metadata": {},
   "outputs": [
    {
     "name": "stdout",
     "output_type": "stream",
     "text": [
      "6.040088129724225\n",
      "10.450583572185565\n"
     ]
    }
   ],
   "source": [
    "# 3) Clone with a tweak (immutable-friendly)\n",
    "# Based on the option object defined above, we make another object with a different strike K\n",
    "opt_110 = replace(opt, K=110)\n",
    "print(op.bs_price(opt_110))\n",
    "print(op.bs_price(opt))"
   ]
  },
  {
   "cell_type": "code",
   "execution_count": 10,
   "id": "58761171",
   "metadata": {},
   "outputs": [
    {
     "name": "stdout",
     "output_type": "stream",
     "text": [
      "[(90, 16.69944840841599), (95, 13.346464945879582), (100, 10.450583572185565), (105, 8.021352235143176), (110, 6.040088129724225)]\n"
     ]
    }
   ],
   "source": [
    "# 4) Batch across strikes (a small vertical call strip)\n",
    "strikes = [90, 95, 100, 105, 110]\n",
    "strip = [(K, op.bs_price(replace(opt, K=K))) for K in strikes]\n",
    "print(strip)"
   ]
  },
  {
   "cell_type": "code",
   "execution_count": 11,
   "id": "84858fb1",
   "metadata": {},
   "outputs": [],
   "source": [
    "# 5) Interop with dicts / JSON\n",
    "d = asdict(opt)                 # {'S0':100, 'K':100, ...}\n",
    "opt2 = op.OptionSpec(**d)       # reconstruct from dict"
   ]
  },
  {
   "cell_type": "code",
   "execution_count": 12,
   "id": "0096f96d",
   "metadata": {},
   "outputs": [
    {
     "data": {
      "text/plain": [
       "OptionSpec(S0=100, K=100, T=1.0, r=0.05, sigma=0.2, q=0.0)"
      ]
     },
     "execution_count": 12,
     "metadata": {},
     "output_type": "execute_result"
    }
   ],
   "source": [
    "opt"
   ]
  },
  {
   "cell_type": "code",
   "execution_count": 13,
   "id": "77e95c4c",
   "metadata": {},
   "outputs": [
    {
     "name": "stdout",
     "output_type": "stream",
     "text": [
      "Heston MC call ~ 8.104620965571499\n"
     ]
    }
   ],
   "source": [
    "import numpy as np\n",
    "import optpricer as op\n",
    "from optpricer.processes import (\n",
    "    gbm_paths, merton_jump_paths, heston_paths, sabr_paths, local_vol_paths\n",
    ")\n",
    "\n",
    "# European price under Heston via MC\n",
    "S = heston_paths(S0=100, r=0.02, q=0.0, v0=0.04, kappa=1.5, theta=0.04,\n",
    "                 xi=0.6, rho=-0.7, T=1.0, n_steps=252, n_paths=50_000, seed=1)\n",
    "ST = S[-1]\n",
    "disc = np.exp(-0.02 * 1.0)\n",
    "call = disc * np.maximum(ST - 100, 0).mean()\n",
    "print(\"Heston MC call ~\", call)\n",
    "\n",
    "# Merton jump-diffusion\n",
    "S = merton_jump_paths(S0=100, r=0.02, q=0.0, sigma=0.2, T=1.0, n_steps=252, n_paths=50_000,\n",
    "                      lam=0.5, mJ=-0.1, sJ=0.2, seed=1)\n",
    "ST = S[-1]\n",
    "call = np.exp(-0.02) * np.maximum(ST - 100, 0).mean()\n",
    "\n",
    "# SABR (β=1 behaves like stochastic-vol GBM)\n",
    "S = sabr_paths(100, 0.02, 0.0, alpha0=0.2, beta=1.0, nu=1.0, rho=-0.5,\n",
    "               T=1.0, n_steps=252, n_paths=50_000, seed=2)\n",
    "\n",
    "# Local vol with a toy smile: σ(S,t) increasing away from ATM\n",
    "def toy_lv(S, t):\n",
    "    atm = 100.0\n",
    "    base, slope = 0.18, 0.0015\n",
    "    return base + slope * np.abs(S - atm)\n",
    "S = local_vol_paths(100, r=0.02, q=0.0, T=1.0, n_steps=252, n_paths=20_000,\n",
    "                    sigma_loc=toy_lv, seed=3)\n"
   ]
  },
  {
   "cell_type": "code",
   "execution_count": null,
   "id": "b5fda396",
   "metadata": {},
   "outputs": [],
   "source": []
  }
 ],
 "metadata": {
  "kernelspec": {
   "display_name": "optpricer",
   "language": "python",
   "name": "python3"
  },
  "language_info": {
   "codemirror_mode": {
    "name": "ipython",
    "version": 3
   },
   "file_extension": ".py",
   "mimetype": "text/x-python",
   "name": "python",
   "nbconvert_exporter": "python",
   "pygments_lexer": "ipython3",
   "version": "3.12.11"
  }
 },
 "nbformat": 4,
 "nbformat_minor": 5
}
